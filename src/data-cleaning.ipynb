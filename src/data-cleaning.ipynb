{
 "cells": [
  {
   "cell_type": "markdown",
   "metadata": {},
   "source": [
    "Import necessary Python packages."
   ]
  },
  {
   "cell_type": "code",
   "execution_count": 108,
   "metadata": {},
   "outputs": [],
   "source": [
    "import pandas as pd\n",
    "import numpy as np"
   ]
  },
  {
   "cell_type": "markdown",
   "metadata": {},
   "source": [
    "Read data .csv file and store in a pandas DataFrame."
   ]
  },
  {
   "cell_type": "code",
   "execution_count": 109,
   "metadata": {},
   "outputs": [],
   "source": [
    "data = pd.read_csv('../data/project-filtered-data.csv')"
   ]
  },
  {
   "cell_type": "markdown",
   "metadata": {},
   "source": [
    "Inspect the attributes in the data."
   ]
  },
  {
   "cell_type": "code",
   "execution_count": 110,
   "metadata": {},
   "outputs": [
    {
     "name": "stdout",
     "output_type": "stream",
     "text": [
      "data columns: ['case_month', 'res_state', 'state_fips_code', 'res_county', 'county_fips_code', 'age_group', 'sex', 'race', 'ethnicity', 'case_positive_specimen_interval', 'case_onset_interval', 'process', 'exposure_yn', 'current_status', 'symptom_status', 'hosp_yn', 'icu_yn', 'death_yn', 'underlying_conditions_yn']\n"
     ]
    }
   ],
   "source": [
    "print(f'data columns: {data.columns.to_list()}')"
   ]
  },
  {
   "cell_type": "markdown",
   "metadata": {},
   "source": [
    "Only include the following attributes in the data and drop all others:\n",
    "  - case_month\n",
    "  - res_state\n",
    "  - state_fips_code\n",
    "  - age_group\n",
    "  - sex\n",
    "  - race\n",
    "  - ethnicity\n",
    "  - current_status\n",
    "  - symptom_status\n",
    "  - hosp_yn\n",
    "  - icu_yn\n",
    "  - death_yn\n",
    "  - underlying_conditions_yn"
   ]
  },
  {
   "cell_type": "code",
   "execution_count": 111,
   "metadata": {},
   "outputs": [
    {
     "name": "stdout",
     "output_type": "stream",
     "text": [
      "data columns: ['case_month', 'res_state', 'state_fips_code', 'age_group', 'sex', 'race', 'ethnicity', 'current_status', 'symptom_status', 'hosp_yn', 'icu_yn', 'death_yn', 'underlying_conditions_yn']\n"
     ]
    }
   ],
   "source": [
    "data = data[['case_month', 'res_state', 'state_fips_code', 'age_group',\\\n",
    "    'sex', 'race', 'ethnicity', 'current_status', 'symptom_status', 'hosp_yn',\\\n",
    "    'icu_yn', 'death_yn', 'underlying_conditions_yn']]\n",
    "print(f'data columns: {data.columns.to_list()}')"
   ]
  },
  {
   "cell_type": "markdown",
   "metadata": {},
   "source": [
    "Check for na/nan values."
   ]
  },
  {
   "cell_type": "code",
   "execution_count": 112,
   "metadata": {},
   "outputs": [
    {
     "data": {
      "text/html": [
       "<div>\n",
       "<style scoped>\n",
       "    .dataframe tbody tr th:only-of-type {\n",
       "        vertical-align: middle;\n",
       "    }\n",
       "\n",
       "    .dataframe tbody tr th {\n",
       "        vertical-align: top;\n",
       "    }\n",
       "\n",
       "    .dataframe thead th {\n",
       "        text-align: right;\n",
       "    }\n",
       "</style>\n",
       "<table border=\"1\" class=\"dataframe\">\n",
       "  <thead>\n",
       "    <tr style=\"text-align: right;\">\n",
       "      <th></th>\n",
       "      <th>any_na</th>\n",
       "      <th>num_na</th>\n",
       "      <th>percent_na</th>\n",
       "    </tr>\n",
       "  </thead>\n",
       "  <tbody>\n",
       "    <tr>\n",
       "      <th>case_month</th>\n",
       "      <td>False</td>\n",
       "      <td>0</td>\n",
       "      <td>0.000000</td>\n",
       "    </tr>\n",
       "    <tr>\n",
       "      <th>res_state</th>\n",
       "      <td>False</td>\n",
       "      <td>0</td>\n",
       "      <td>0.000000</td>\n",
       "    </tr>\n",
       "    <tr>\n",
       "      <th>state_fips_code</th>\n",
       "      <td>False</td>\n",
       "      <td>0</td>\n",
       "      <td>0.000000</td>\n",
       "    </tr>\n",
       "    <tr>\n",
       "      <th>age_group</th>\n",
       "      <td>False</td>\n",
       "      <td>0</td>\n",
       "      <td>0.000000</td>\n",
       "    </tr>\n",
       "    <tr>\n",
       "      <th>sex</th>\n",
       "      <td>False</td>\n",
       "      <td>0</td>\n",
       "      <td>0.000000</td>\n",
       "    </tr>\n",
       "    <tr>\n",
       "      <th>race</th>\n",
       "      <td>True</td>\n",
       "      <td>39143</td>\n",
       "      <td>8.090957</td>\n",
       "    </tr>\n",
       "    <tr>\n",
       "      <th>ethnicity</th>\n",
       "      <td>True</td>\n",
       "      <td>43783</td>\n",
       "      <td>9.050057</td>\n",
       "    </tr>\n",
       "    <tr>\n",
       "      <th>current_status</th>\n",
       "      <td>False</td>\n",
       "      <td>0</td>\n",
       "      <td>0.000000</td>\n",
       "    </tr>\n",
       "    <tr>\n",
       "      <th>symptom_status</th>\n",
       "      <td>False</td>\n",
       "      <td>0</td>\n",
       "      <td>0.000000</td>\n",
       "    </tr>\n",
       "    <tr>\n",
       "      <th>hosp_yn</th>\n",
       "      <td>False</td>\n",
       "      <td>0</td>\n",
       "      <td>0.000000</td>\n",
       "    </tr>\n",
       "    <tr>\n",
       "      <th>icu_yn</th>\n",
       "      <td>False</td>\n",
       "      <td>0</td>\n",
       "      <td>0.000000</td>\n",
       "    </tr>\n",
       "    <tr>\n",
       "      <th>death_yn</th>\n",
       "      <td>False</td>\n",
       "      <td>0</td>\n",
       "      <td>0.000000</td>\n",
       "    </tr>\n",
       "    <tr>\n",
       "      <th>underlying_conditions_yn</th>\n",
       "      <td>False</td>\n",
       "      <td>0</td>\n",
       "      <td>0.000000</td>\n",
       "    </tr>\n",
       "  </tbody>\n",
       "</table>\n",
       "</div>"
      ],
      "text/plain": [
       "                          any_na  num_na  percent_na\n",
       "case_month                 False       0    0.000000\n",
       "res_state                  False       0    0.000000\n",
       "state_fips_code            False       0    0.000000\n",
       "age_group                  False       0    0.000000\n",
       "sex                        False       0    0.000000\n",
       "race                        True   39143    8.090957\n",
       "ethnicity                   True   43783    9.050057\n",
       "current_status             False       0    0.000000\n",
       "symptom_status             False       0    0.000000\n",
       "hosp_yn                    False       0    0.000000\n",
       "icu_yn                     False       0    0.000000\n",
       "death_yn                   False       0    0.000000\n",
       "underlying_conditions_yn   False       0    0.000000"
      ]
     },
     "execution_count": 112,
     "metadata": {},
     "output_type": "execute_result"
    }
   ],
   "source": [
    "pd.DataFrame.from_dict(data={\n",
    "    'any_na' : data.isna().any(),\n",
    "    'num_na' : data.isna().sum(),\n",
    "    'percent_na' : (data.isna().sum() / data.shape[0]) * 100\n",
    "})"
   ]
  },
  {
   "cell_type": "markdown",
   "metadata": {},
   "source": [
    "Deep clone data into variable data2 and drop na/nan values from data2."
   ]
  },
  {
   "cell_type": "code",
   "execution_count": 113,
   "metadata": {},
   "outputs": [
    {
     "name": "stdout",
     "output_type": "stream",
     "text": [
      "data number of observations: 483787\n",
      "data2 number of observations: 440004\n",
      "difference between data and data2 number of observations: 43783\n"
     ]
    }
   ],
   "source": [
    "data2 = data.copy(deep=True)\n",
    "data2.dropna(inplace=True)\n",
    "\n",
    "print(f'data number of observations: {data.shape[0]}')\n",
    "print(f'data2 number of observations: {data2.shape[0]}')\n",
    "print(f'difference between data and data2 number of observations: {data.shape[0] - data2.shape[0]}')"
   ]
  },
  {
   "cell_type": "markdown",
   "metadata": {},
   "source": [
    "Now, check data types."
   ]
  },
  {
   "cell_type": "code",
   "execution_count": 114,
   "metadata": {},
   "outputs": [
    {
     "data": {
      "text/html": [
       "<div>\n",
       "<style scoped>\n",
       "    .dataframe tbody tr th:only-of-type {\n",
       "        vertical-align: middle;\n",
       "    }\n",
       "\n",
       "    .dataframe tbody tr th {\n",
       "        vertical-align: top;\n",
       "    }\n",
       "\n",
       "    .dataframe thead th {\n",
       "        text-align: right;\n",
       "    }\n",
       "</style>\n",
       "<table border=\"1\" class=\"dataframe\">\n",
       "  <thead>\n",
       "    <tr style=\"text-align: right;\">\n",
       "      <th></th>\n",
       "      <th>data_type</th>\n",
       "    </tr>\n",
       "  </thead>\n",
       "  <tbody>\n",
       "    <tr>\n",
       "      <th>case_month</th>\n",
       "      <td>object</td>\n",
       "    </tr>\n",
       "    <tr>\n",
       "      <th>res_state</th>\n",
       "      <td>object</td>\n",
       "    </tr>\n",
       "    <tr>\n",
       "      <th>state_fips_code</th>\n",
       "      <td>int64</td>\n",
       "    </tr>\n",
       "    <tr>\n",
       "      <th>age_group</th>\n",
       "      <td>object</td>\n",
       "    </tr>\n",
       "    <tr>\n",
       "      <th>sex</th>\n",
       "      <td>object</td>\n",
       "    </tr>\n",
       "    <tr>\n",
       "      <th>race</th>\n",
       "      <td>object</td>\n",
       "    </tr>\n",
       "    <tr>\n",
       "      <th>ethnicity</th>\n",
       "      <td>object</td>\n",
       "    </tr>\n",
       "    <tr>\n",
       "      <th>current_status</th>\n",
       "      <td>object</td>\n",
       "    </tr>\n",
       "    <tr>\n",
       "      <th>symptom_status</th>\n",
       "      <td>object</td>\n",
       "    </tr>\n",
       "    <tr>\n",
       "      <th>hosp_yn</th>\n",
       "      <td>object</td>\n",
       "    </tr>\n",
       "    <tr>\n",
       "      <th>icu_yn</th>\n",
       "      <td>object</td>\n",
       "    </tr>\n",
       "    <tr>\n",
       "      <th>death_yn</th>\n",
       "      <td>object</td>\n",
       "    </tr>\n",
       "    <tr>\n",
       "      <th>underlying_conditions_yn</th>\n",
       "      <td>object</td>\n",
       "    </tr>\n",
       "  </tbody>\n",
       "</table>\n",
       "</div>"
      ],
      "text/plain": [
       "                         data_type\n",
       "case_month                  object\n",
       "res_state                   object\n",
       "state_fips_code              int64\n",
       "age_group                   object\n",
       "sex                         object\n",
       "race                        object\n",
       "ethnicity                   object\n",
       "current_status              object\n",
       "symptom_status              object\n",
       "hosp_yn                     object\n",
       "icu_yn                      object\n",
       "death_yn                    object\n",
       "underlying_conditions_yn    object"
      ]
     },
     "execution_count": 114,
     "metadata": {},
     "output_type": "execute_result"
    }
   ],
   "source": [
    "data_types_df = pd.DataFrame().from_dict(data={\n",
    "    'data_type' : data2.dtypes\n",
    "})\n",
    "data_types_df"
   ]
  },
  {
   "cell_type": "markdown",
   "metadata": {},
   "source": [
    "For every attribute of type 'object' in data2, make sure there are no 'Missing' or 'nul' values."
   ]
  },
  {
   "cell_type": "code",
   "execution_count": 115,
   "metadata": {},
   "outputs": [
    {
     "data": {
      "text/html": [
       "<div>\n",
       "<style scoped>\n",
       "    .dataframe tbody tr th:only-of-type {\n",
       "        vertical-align: middle;\n",
       "    }\n",
       "\n",
       "    .dataframe tbody tr th {\n",
       "        vertical-align: top;\n",
       "    }\n",
       "\n",
       "    .dataframe thead th {\n",
       "        text-align: right;\n",
       "    }\n",
       "</style>\n",
       "<table border=\"1\" class=\"dataframe\">\n",
       "  <thead>\n",
       "    <tr style=\"text-align: right;\">\n",
       "      <th></th>\n",
       "      <th>data_type</th>\n",
       "    </tr>\n",
       "  </thead>\n",
       "  <tbody>\n",
       "    <tr>\n",
       "      <th>case_month</th>\n",
       "      <td>object</td>\n",
       "    </tr>\n",
       "    <tr>\n",
       "      <th>res_state</th>\n",
       "      <td>object</td>\n",
       "    </tr>\n",
       "    <tr>\n",
       "      <th>age_group</th>\n",
       "      <td>object</td>\n",
       "    </tr>\n",
       "    <tr>\n",
       "      <th>sex</th>\n",
       "      <td>object</td>\n",
       "    </tr>\n",
       "    <tr>\n",
       "      <th>race</th>\n",
       "      <td>object</td>\n",
       "    </tr>\n",
       "    <tr>\n",
       "      <th>ethnicity</th>\n",
       "      <td>object</td>\n",
       "    </tr>\n",
       "    <tr>\n",
       "      <th>current_status</th>\n",
       "      <td>object</td>\n",
       "    </tr>\n",
       "    <tr>\n",
       "      <th>symptom_status</th>\n",
       "      <td>object</td>\n",
       "    </tr>\n",
       "    <tr>\n",
       "      <th>hosp_yn</th>\n",
       "      <td>object</td>\n",
       "    </tr>\n",
       "    <tr>\n",
       "      <th>icu_yn</th>\n",
       "      <td>object</td>\n",
       "    </tr>\n",
       "    <tr>\n",
       "      <th>death_yn</th>\n",
       "      <td>object</td>\n",
       "    </tr>\n",
       "    <tr>\n",
       "      <th>underlying_conditions_yn</th>\n",
       "      <td>object</td>\n",
       "    </tr>\n",
       "  </tbody>\n",
       "</table>\n",
       "</div>"
      ],
      "text/plain": [
       "                         data_type\n",
       "case_month                  object\n",
       "res_state                   object\n",
       "age_group                   object\n",
       "sex                         object\n",
       "race                        object\n",
       "ethnicity                   object\n",
       "current_status              object\n",
       "symptom_status              object\n",
       "hosp_yn                     object\n",
       "icu_yn                      object\n",
       "death_yn                    object\n",
       "underlying_conditions_yn    object"
      ]
     },
     "execution_count": 115,
     "metadata": {},
     "output_type": "execute_result"
    }
   ],
   "source": [
    "object_types_df = data_types_df[data_types_df['data_type'] == 'object']\n",
    "object_types_df"
   ]
  },
  {
   "cell_type": "code",
   "execution_count": 116,
   "metadata": {},
   "outputs": [
    {
     "name": "stdout",
     "output_type": "stream",
     "text": [
      "columns with missing or nul values: ['race', 'ethnicity', 'symptom_status', 'icu_yn']\n"
     ]
    }
   ],
   "source": [
    "missing_nul_cols = []\n",
    "for col in object_types_df.index:\n",
    "    if 'Missing' in data[col].unique().tolist() or 'nul' in data[col].unique().tolist():\n",
    "        missing_nul_cols.append(col)\n",
    "\n",
    "print(f'columns with missing or nul values: {missing_nul_cols}')"
   ]
  },
  {
   "cell_type": "markdown",
   "metadata": {},
   "source": [
    "Erase all 'Missing' or 'nul' records from the data."
   ]
  },
  {
   "cell_type": "code",
   "execution_count": 117,
   "metadata": {},
   "outputs": [
    {
     "name": "stdout",
     "output_type": "stream",
     "text": [
      "data number of observations: 483787\n",
      "data2 number of observations: 428867\n",
      "difference between data and data2 number of observations: 54920\n"
     ]
    }
   ],
   "source": [
    "for col in missing_nul_cols:\n",
    "    data2 = data2[(data2[col] != 'Missing') & (data2[col] != 'nul')]\n",
    "\n",
    "print(f'data number of observations: {data.shape[0]}')\n",
    "print(f'data2 number of observations: {data2.shape[0]}')\n",
    "print(f'difference between data and data2 number of observations: {data.shape[0] - data2.shape[0]}')"
   ]
  },
  {
   "cell_type": "markdown",
   "metadata": {},
   "source": [
    "Make sure there are no duplicates."
   ]
  },
  {
   "cell_type": "code",
   "execution_count": 118,
   "metadata": {},
   "outputs": [
    {
     "data": {
      "text/plain": [
       "case_month                  405399\n",
       "res_state                   405399\n",
       "state_fips_code             405399\n",
       "age_group                   405399\n",
       "sex                         405399\n",
       "race                        405399\n",
       "ethnicity                   405399\n",
       "current_status              405399\n",
       "symptom_status              405399\n",
       "hosp_yn                     405399\n",
       "icu_yn                      405399\n",
       "death_yn                    405399\n",
       "underlying_conditions_yn    405399\n",
       "dtype: int64"
      ]
     },
     "execution_count": 118,
     "metadata": {},
     "output_type": "execute_result"
    }
   ],
   "source": [
    "data2[data2.duplicated()].count()"
   ]
  },
  {
   "cell_type": "markdown",
   "metadata": {},
   "source": [
    "There is an overwhelming portion of the data set that has been flagged as being duplicated. Such a common occurrence of *truly* duplicate data is highly unlikely. However, we don't have any means of verifying which are actually duplicates and which are just patients with very similar backgrounds, based on the available attributes, as there are no unique IDs or identifying keys in the data to distinguish between different COVID-19 cases.\n",
    "\n",
    "**Therefore, we will assume that the original CDC data set does *not* contain *any* duplicate records, i.e., counting a single COVID-19 case more than one time**."
   ]
  },
  {
   "cell_type": "markdown",
   "metadata": {},
   "source": [
    "Assign data2 to data variable."
   ]
  },
  {
   "cell_type": "code",
   "execution_count": 119,
   "metadata": {},
   "outputs": [
    {
     "name": "stdout",
     "output_type": "stream",
     "text": [
      "data number of observations: 428867\n"
     ]
    }
   ],
   "source": [
    "data = data2\n",
    "print(f'data number of observations: {data.shape[0]}')"
   ]
  },
  {
   "cell_type": "markdown",
   "metadata": {},
   "source": [
    "Save the data as a csv file."
   ]
  },
  {
   "cell_type": "code",
   "execution_count": 120,
   "metadata": {},
   "outputs": [],
   "source": [
    "data.to_csv(r'../data/trimmed-data-with-unknowns.csv', index=False)"
   ]
  },
  {
   "cell_type": "markdown",
   "metadata": {},
   "source": [
    "Now, we should create an alternate data set that does **not** include 'Unknown' values.\n",
    "\n",
    "First, let's deep clone data to data2."
   ]
  },
  {
   "cell_type": "code",
   "execution_count": 121,
   "metadata": {},
   "outputs": [],
   "source": [
    "data2 = data.copy(deep=True)"
   ]
  },
  {
   "cell_type": "markdown",
   "metadata": {},
   "source": [
    "Next, let's get the data types for data2 and create a DataFrame that only includes 'object' type data."
   ]
  },
  {
   "cell_type": "code",
   "execution_count": 122,
   "metadata": {},
   "outputs": [],
   "source": [
    "data_types_df = pd.DataFrame().from_dict(data={\n",
    "    'data_type' : data2.dtypes\n",
    "})"
   ]
  },
  {
   "cell_type": "code",
   "execution_count": 123,
   "metadata": {},
   "outputs": [
    {
     "data": {
      "text/html": [
       "<div>\n",
       "<style scoped>\n",
       "    .dataframe tbody tr th:only-of-type {\n",
       "        vertical-align: middle;\n",
       "    }\n",
       "\n",
       "    .dataframe tbody tr th {\n",
       "        vertical-align: top;\n",
       "    }\n",
       "\n",
       "    .dataframe thead th {\n",
       "        text-align: right;\n",
       "    }\n",
       "</style>\n",
       "<table border=\"1\" class=\"dataframe\">\n",
       "  <thead>\n",
       "    <tr style=\"text-align: right;\">\n",
       "      <th></th>\n",
       "      <th>data_type</th>\n",
       "    </tr>\n",
       "  </thead>\n",
       "  <tbody>\n",
       "    <tr>\n",
       "      <th>case_month</th>\n",
       "      <td>object</td>\n",
       "    </tr>\n",
       "    <tr>\n",
       "      <th>res_state</th>\n",
       "      <td>object</td>\n",
       "    </tr>\n",
       "    <tr>\n",
       "      <th>age_group</th>\n",
       "      <td>object</td>\n",
       "    </tr>\n",
       "    <tr>\n",
       "      <th>sex</th>\n",
       "      <td>object</td>\n",
       "    </tr>\n",
       "    <tr>\n",
       "      <th>race</th>\n",
       "      <td>object</td>\n",
       "    </tr>\n",
       "    <tr>\n",
       "      <th>ethnicity</th>\n",
       "      <td>object</td>\n",
       "    </tr>\n",
       "    <tr>\n",
       "      <th>current_status</th>\n",
       "      <td>object</td>\n",
       "    </tr>\n",
       "    <tr>\n",
       "      <th>symptom_status</th>\n",
       "      <td>object</td>\n",
       "    </tr>\n",
       "    <tr>\n",
       "      <th>hosp_yn</th>\n",
       "      <td>object</td>\n",
       "    </tr>\n",
       "    <tr>\n",
       "      <th>icu_yn</th>\n",
       "      <td>object</td>\n",
       "    </tr>\n",
       "    <tr>\n",
       "      <th>death_yn</th>\n",
       "      <td>object</td>\n",
       "    </tr>\n",
       "    <tr>\n",
       "      <th>underlying_conditions_yn</th>\n",
       "      <td>object</td>\n",
       "    </tr>\n",
       "  </tbody>\n",
       "</table>\n",
       "</div>"
      ],
      "text/plain": [
       "                         data_type\n",
       "case_month                  object\n",
       "res_state                   object\n",
       "age_group                   object\n",
       "sex                         object\n",
       "race                        object\n",
       "ethnicity                   object\n",
       "current_status              object\n",
       "symptom_status              object\n",
       "hosp_yn                     object\n",
       "icu_yn                      object\n",
       "death_yn                    object\n",
       "underlying_conditions_yn    object"
      ]
     },
     "execution_count": 123,
     "metadata": {},
     "output_type": "execute_result"
    }
   ],
   "source": [
    "object_types_df = data_types_df[data_types_df['data_type'] == 'object']\n",
    "object_types_df"
   ]
  },
  {
   "cell_type": "markdown",
   "metadata": {},
   "source": [
    "Now, let's determine which attributes in data2 contain Unknown values."
   ]
  },
  {
   "cell_type": "code",
   "execution_count": 124,
   "metadata": {},
   "outputs": [
    {
     "name": "stdout",
     "output_type": "stream",
     "text": [
      "columns with unknown values: ['race', 'ethnicity', 'symptom_status']\n"
     ]
    }
   ],
   "source": [
    "unknown_cols = []\n",
    "for col in object_types_df.index:\n",
    "    if 'Unknown' in data2[col].unique().tolist():\n",
    "        unknown_cols.append(col)\n",
    "\n",
    "print(f'columns with unknown values: {unknown_cols}')"
   ]
  },
  {
   "cell_type": "markdown",
   "metadata": {},
   "source": [
    "At this point, we should drop all the records with Unknown values from data2."
   ]
  },
  {
   "cell_type": "code",
   "execution_count": 125,
   "metadata": {},
   "outputs": [
    {
     "name": "stdout",
     "output_type": "stream",
     "text": [
      "data number of observations: 428867\n",
      "data2 number of observations: 396603\n",
      "difference between data and data2 number of observations: 32264\n"
     ]
    }
   ],
   "source": [
    "for col in unknown_cols:\n",
    "    data2 = data2[data2[col] != 'Unknown']\n",
    "\n",
    "print(f'data number of observations: {data.shape[0]}')\n",
    "print(f'data2 number of observations: {data2.shape[0]}')\n",
    "print(f'difference between data and data2 number of observations: {data.shape[0] - data2.shape[0]}')"
   ]
  },
  {
   "cell_type": "markdown",
   "metadata": {},
   "source": [
    "Lastly, we should export data2 as a csv file."
   ]
  },
  {
   "cell_type": "code",
   "execution_count": 126,
   "metadata": {},
   "outputs": [],
   "source": [
    "data2.to_csv(r'../data/trimmed-data-without-unknowns.csv', index=False)"
   ]
  }
 ],
 "metadata": {
  "interpreter": {
   "hash": "5f1757bcd5b2b135bb28c0f46c3cd840729cbc634a36c28aa70e8d620d258ca7"
  },
  "kernelspec": {
   "display_name": "Python 3.9.7 ('base')",
   "language": "python",
   "name": "python3"
  },
  "language_info": {
   "codemirror_mode": {
    "name": "ipython",
    "version": 3
   },
   "file_extension": ".py",
   "mimetype": "text/x-python",
   "name": "python",
   "nbconvert_exporter": "python",
   "pygments_lexer": "ipython3",
   "version": "3.9.7"
  },
  "orig_nbformat": 4
 },
 "nbformat": 4,
 "nbformat_minor": 2
}
